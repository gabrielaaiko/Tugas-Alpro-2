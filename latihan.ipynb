def bubble_sort(var):
	n = len(var)
	for i in range(n - 1):
		for j in range(n - 1 - i):
			print(j)
		
	
bubble_sort([2,5,1,5,3,11,0,1])
bubble_sort([22,55,12,31,11,0,1])
