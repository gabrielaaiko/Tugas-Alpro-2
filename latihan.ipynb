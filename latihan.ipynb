def calculate_factorial(n):
    result = 1
    for i in range(1, n):
          result = result * i
    return result

print(calculate_factorial(5))
